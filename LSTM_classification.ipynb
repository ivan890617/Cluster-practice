{
  "nbformat": 4,
  "nbformat_minor": 0,
  "metadata": {
    "colab": {
      "name": "LSTM classification.ipynb",
      "provenance": [],
      "collapsed_sections": [],
      "authorship_tag": "ABX9TyOcTsG80I2bIf0CN3ZQmg5m",
      "include_colab_link": true
    },
    "kernelspec": {
      "name": "python3",
      "display_name": "Python 3"
    },
    "language_info": {
      "name": "python"
    },
    "accelerator": "GPU"
  },
  "cells": [
    {
      "cell_type": "markdown",
      "metadata": {
        "id": "view-in-github",
        "colab_type": "text"
      },
      "source": [
        "<a href=\"https://colab.research.google.com/github/ivan890617/Cluster-practice/blob/main/LSTM_classification.ipynb\" target=\"_parent\"><img src=\"https://colab.research.google.com/assets/colab-badge.svg\" alt=\"Open In Colab\"/></a>"
      ]
    },
    {
      "cell_type": "markdown",
      "source": [
        "# **Import**"
      ],
      "metadata": {
        "id": "zUT52vRIynKO"
      }
    },
    {
      "cell_type": "code",
      "execution_count": 2,
      "metadata": {
        "id": "EeXZmSeHWTg3"
      },
      "outputs": [],
      "source": [
        "import numpy as np\n",
        "import matplotlib.pyplot as plt\n",
        "import pandas as pd\n",
        "import torch\n",
        "import torch.nn as nn\n",
        "from torch.autograd import Variable\n",
        "from sklearn.preprocessing import MinMaxScaler\n",
        "from sklearn.cluster import KMeans"
      ]
    },
    {
      "cell_type": "markdown",
      "source": [
        "# Read the data & Data preprocessing"
      ],
      "metadata": {
        "id": "GqstDSMNywvy"
      }
    },
    {
      "cell_type": "code",
      "source": [
        "data = pd.read_csv(\"/content/result.csv\")\n",
        "data[\"Datetime\"] = pd.to_datetime(data[\"Datetime\"])\n",
        "data_sort = data.sort_values(by='Datetime')\n",
        "data_sort = pd.DataFrame(data_sort,columns=['Datetime','AEP_MW','sub_label'])\n",
        "data_sort"
      ],
      "metadata": {
        "id": "KmcUy-zLWXGe",
        "colab": {
          "base_uri": "https://localhost:8080/",
          "height": 424
        },
        "outputId": "771623e7-a5d2-463d-d9c1-b25d51421fef"
      },
      "execution_count": 4,
      "outputs": [
        {
          "output_type": "execute_result",
          "data": {
            "text/plain": [
              "                  Datetime   AEP_MW  sub_label\n",
              "0      2004-10-01 01:00:00  12379.0          2\n",
              "1      2004-10-01 02:00:00  11935.0          2\n",
              "2      2004-10-01 03:00:00  11692.0          1\n",
              "3      2004-10-01 04:00:00  11597.0          1\n",
              "4      2004-10-01 05:00:00  11681.0          1\n",
              "...                    ...      ...        ...\n",
              "121268 2018-08-02 20:00:00  17673.0          7\n",
              "121269 2018-08-02 21:00:00  17303.0          6\n",
              "121270 2018-08-02 22:00:00  17001.0          6\n",
              "121271 2018-08-02 23:00:00  15964.0          5\n",
              "121272 2018-08-03 00:00:00  14809.0          4\n",
              "\n",
              "[121273 rows x 3 columns]"
            ],
            "text/html": [
              "\n",
              "  <div id=\"df-91604b54-e75a-4da2-a60a-f40a34c6b850\">\n",
              "    <div class=\"colab-df-container\">\n",
              "      <div>\n",
              "<style scoped>\n",
              "    .dataframe tbody tr th:only-of-type {\n",
              "        vertical-align: middle;\n",
              "    }\n",
              "\n",
              "    .dataframe tbody tr th {\n",
              "        vertical-align: top;\n",
              "    }\n",
              "\n",
              "    .dataframe thead th {\n",
              "        text-align: right;\n",
              "    }\n",
              "</style>\n",
              "<table border=\"1\" class=\"dataframe\">\n",
              "  <thead>\n",
              "    <tr style=\"text-align: right;\">\n",
              "      <th></th>\n",
              "      <th>Datetime</th>\n",
              "      <th>AEP_MW</th>\n",
              "      <th>sub_label</th>\n",
              "    </tr>\n",
              "  </thead>\n",
              "  <tbody>\n",
              "    <tr>\n",
              "      <th>0</th>\n",
              "      <td>2004-10-01 01:00:00</td>\n",
              "      <td>12379.0</td>\n",
              "      <td>2</td>\n",
              "    </tr>\n",
              "    <tr>\n",
              "      <th>1</th>\n",
              "      <td>2004-10-01 02:00:00</td>\n",
              "      <td>11935.0</td>\n",
              "      <td>2</td>\n",
              "    </tr>\n",
              "    <tr>\n",
              "      <th>2</th>\n",
              "      <td>2004-10-01 03:00:00</td>\n",
              "      <td>11692.0</td>\n",
              "      <td>1</td>\n",
              "    </tr>\n",
              "    <tr>\n",
              "      <th>3</th>\n",
              "      <td>2004-10-01 04:00:00</td>\n",
              "      <td>11597.0</td>\n",
              "      <td>1</td>\n",
              "    </tr>\n",
              "    <tr>\n",
              "      <th>4</th>\n",
              "      <td>2004-10-01 05:00:00</td>\n",
              "      <td>11681.0</td>\n",
              "      <td>1</td>\n",
              "    </tr>\n",
              "    <tr>\n",
              "      <th>...</th>\n",
              "      <td>...</td>\n",
              "      <td>...</td>\n",
              "      <td>...</td>\n",
              "    </tr>\n",
              "    <tr>\n",
              "      <th>121268</th>\n",
              "      <td>2018-08-02 20:00:00</td>\n",
              "      <td>17673.0</td>\n",
              "      <td>7</td>\n",
              "    </tr>\n",
              "    <tr>\n",
              "      <th>121269</th>\n",
              "      <td>2018-08-02 21:00:00</td>\n",
              "      <td>17303.0</td>\n",
              "      <td>6</td>\n",
              "    </tr>\n",
              "    <tr>\n",
              "      <th>121270</th>\n",
              "      <td>2018-08-02 22:00:00</td>\n",
              "      <td>17001.0</td>\n",
              "      <td>6</td>\n",
              "    </tr>\n",
              "    <tr>\n",
              "      <th>121271</th>\n",
              "      <td>2018-08-02 23:00:00</td>\n",
              "      <td>15964.0</td>\n",
              "      <td>5</td>\n",
              "    </tr>\n",
              "    <tr>\n",
              "      <th>121272</th>\n",
              "      <td>2018-08-03 00:00:00</td>\n",
              "      <td>14809.0</td>\n",
              "      <td>4</td>\n",
              "    </tr>\n",
              "  </tbody>\n",
              "</table>\n",
              "<p>121273 rows × 3 columns</p>\n",
              "</div>\n",
              "      <button class=\"colab-df-convert\" onclick=\"convertToInteractive('df-91604b54-e75a-4da2-a60a-f40a34c6b850')\"\n",
              "              title=\"Convert this dataframe to an interactive table.\"\n",
              "              style=\"display:none;\">\n",
              "        \n",
              "  <svg xmlns=\"http://www.w3.org/2000/svg\" height=\"24px\"viewBox=\"0 0 24 24\"\n",
              "       width=\"24px\">\n",
              "    <path d=\"M0 0h24v24H0V0z\" fill=\"none\"/>\n",
              "    <path d=\"M18.56 5.44l.94 2.06.94-2.06 2.06-.94-2.06-.94-.94-2.06-.94 2.06-2.06.94zm-11 1L8.5 8.5l.94-2.06 2.06-.94-2.06-.94L8.5 2.5l-.94 2.06-2.06.94zm10 10l.94 2.06.94-2.06 2.06-.94-2.06-.94-.94-2.06-.94 2.06-2.06.94z\"/><path d=\"M17.41 7.96l-1.37-1.37c-.4-.4-.92-.59-1.43-.59-.52 0-1.04.2-1.43.59L10.3 9.45l-7.72 7.72c-.78.78-.78 2.05 0 2.83L4 21.41c.39.39.9.59 1.41.59.51 0 1.02-.2 1.41-.59l7.78-7.78 2.81-2.81c.8-.78.8-2.07 0-2.86zM5.41 20L4 18.59l7.72-7.72 1.47 1.35L5.41 20z\"/>\n",
              "  </svg>\n",
              "      </button>\n",
              "      \n",
              "  <style>\n",
              "    .colab-df-container {\n",
              "      display:flex;\n",
              "      flex-wrap:wrap;\n",
              "      gap: 12px;\n",
              "    }\n",
              "\n",
              "    .colab-df-convert {\n",
              "      background-color: #E8F0FE;\n",
              "      border: none;\n",
              "      border-radius: 50%;\n",
              "      cursor: pointer;\n",
              "      display: none;\n",
              "      fill: #1967D2;\n",
              "      height: 32px;\n",
              "      padding: 0 0 0 0;\n",
              "      width: 32px;\n",
              "    }\n",
              "\n",
              "    .colab-df-convert:hover {\n",
              "      background-color: #E2EBFA;\n",
              "      box-shadow: 0px 1px 2px rgba(60, 64, 67, 0.3), 0px 1px 3px 1px rgba(60, 64, 67, 0.15);\n",
              "      fill: #174EA6;\n",
              "    }\n",
              "\n",
              "    [theme=dark] .colab-df-convert {\n",
              "      background-color: #3B4455;\n",
              "      fill: #D2E3FC;\n",
              "    }\n",
              "\n",
              "    [theme=dark] .colab-df-convert:hover {\n",
              "      background-color: #434B5C;\n",
              "      box-shadow: 0px 1px 3px 1px rgba(0, 0, 0, 0.15);\n",
              "      filter: drop-shadow(0px 1px 2px rgba(0, 0, 0, 0.3));\n",
              "      fill: #FFFFFF;\n",
              "    }\n",
              "  </style>\n",
              "\n",
              "      <script>\n",
              "        const buttonEl =\n",
              "          document.querySelector('#df-91604b54-e75a-4da2-a60a-f40a34c6b850 button.colab-df-convert');\n",
              "        buttonEl.style.display =\n",
              "          google.colab.kernel.accessAllowed ? 'block' : 'none';\n",
              "\n",
              "        async function convertToInteractive(key) {\n",
              "          const element = document.querySelector('#df-91604b54-e75a-4da2-a60a-f40a34c6b850');\n",
              "          const dataTable =\n",
              "            await google.colab.kernel.invokeFunction('convertToInteractive',\n",
              "                                                     [key], {});\n",
              "          if (!dataTable) return;\n",
              "\n",
              "          const docLinkHtml = 'Like what you see? Visit the ' +\n",
              "            '<a target=\"_blank\" href=https://colab.research.google.com/notebooks/data_table.ipynb>data table notebook</a>'\n",
              "            + ' to learn more about interactive tables.';\n",
              "          element.innerHTML = '';\n",
              "          dataTable['output_type'] = 'display_data';\n",
              "          await google.colab.output.renderOutput(dataTable, element);\n",
              "          const docLink = document.createElement('div');\n",
              "          docLink.innerHTML = docLinkHtml;\n",
              "          element.appendChild(docLink);\n",
              "        }\n",
              "      </script>\n",
              "    </div>\n",
              "  </div>\n",
              "  "
            ]
          },
          "metadata": {},
          "execution_count": 4
        }
      ]
    },
    {
      "cell_type": "markdown",
      "source": [
        "set the label from 1-9 to 0-8 "
      ],
      "metadata": {
        "id": "HQepYtnJzJzt"
      }
    },
    {
      "cell_type": "code",
      "source": [
        "data_sort[\"sub_label\"] = data_sort[\"sub_label\"] -1\n",
        "data_sort"
      ],
      "metadata": {
        "colab": {
          "base_uri": "https://localhost:8080/",
          "height": 424
        },
        "id": "6CdEHcu17ZrG",
        "outputId": "a5ac8f75-795d-43ce-fef0-4ca4da70f3b8"
      },
      "execution_count": 5,
      "outputs": [
        {
          "output_type": "execute_result",
          "data": {
            "text/plain": [
              "                  Datetime   AEP_MW  sub_label\n",
              "0      2004-10-01 01:00:00  12379.0          1\n",
              "1      2004-10-01 02:00:00  11935.0          1\n",
              "2      2004-10-01 03:00:00  11692.0          0\n",
              "3      2004-10-01 04:00:00  11597.0          0\n",
              "4      2004-10-01 05:00:00  11681.0          0\n",
              "...                    ...      ...        ...\n",
              "121268 2018-08-02 20:00:00  17673.0          6\n",
              "121269 2018-08-02 21:00:00  17303.0          5\n",
              "121270 2018-08-02 22:00:00  17001.0          5\n",
              "121271 2018-08-02 23:00:00  15964.0          4\n",
              "121272 2018-08-03 00:00:00  14809.0          3\n",
              "\n",
              "[121273 rows x 3 columns]"
            ],
            "text/html": [
              "\n",
              "  <div id=\"df-637fdd52-a468-4d3c-80ed-d25a471bdc4e\">\n",
              "    <div class=\"colab-df-container\">\n",
              "      <div>\n",
              "<style scoped>\n",
              "    .dataframe tbody tr th:only-of-type {\n",
              "        vertical-align: middle;\n",
              "    }\n",
              "\n",
              "    .dataframe tbody tr th {\n",
              "        vertical-align: top;\n",
              "    }\n",
              "\n",
              "    .dataframe thead th {\n",
              "        text-align: right;\n",
              "    }\n",
              "</style>\n",
              "<table border=\"1\" class=\"dataframe\">\n",
              "  <thead>\n",
              "    <tr style=\"text-align: right;\">\n",
              "      <th></th>\n",
              "      <th>Datetime</th>\n",
              "      <th>AEP_MW</th>\n",
              "      <th>sub_label</th>\n",
              "    </tr>\n",
              "  </thead>\n",
              "  <tbody>\n",
              "    <tr>\n",
              "      <th>0</th>\n",
              "      <td>2004-10-01 01:00:00</td>\n",
              "      <td>12379.0</td>\n",
              "      <td>1</td>\n",
              "    </tr>\n",
              "    <tr>\n",
              "      <th>1</th>\n",
              "      <td>2004-10-01 02:00:00</td>\n",
              "      <td>11935.0</td>\n",
              "      <td>1</td>\n",
              "    </tr>\n",
              "    <tr>\n",
              "      <th>2</th>\n",
              "      <td>2004-10-01 03:00:00</td>\n",
              "      <td>11692.0</td>\n",
              "      <td>0</td>\n",
              "    </tr>\n",
              "    <tr>\n",
              "      <th>3</th>\n",
              "      <td>2004-10-01 04:00:00</td>\n",
              "      <td>11597.0</td>\n",
              "      <td>0</td>\n",
              "    </tr>\n",
              "    <tr>\n",
              "      <th>4</th>\n",
              "      <td>2004-10-01 05:00:00</td>\n",
              "      <td>11681.0</td>\n",
              "      <td>0</td>\n",
              "    </tr>\n",
              "    <tr>\n",
              "      <th>...</th>\n",
              "      <td>...</td>\n",
              "      <td>...</td>\n",
              "      <td>...</td>\n",
              "    </tr>\n",
              "    <tr>\n",
              "      <th>121268</th>\n",
              "      <td>2018-08-02 20:00:00</td>\n",
              "      <td>17673.0</td>\n",
              "      <td>6</td>\n",
              "    </tr>\n",
              "    <tr>\n",
              "      <th>121269</th>\n",
              "      <td>2018-08-02 21:00:00</td>\n",
              "      <td>17303.0</td>\n",
              "      <td>5</td>\n",
              "    </tr>\n",
              "    <tr>\n",
              "      <th>121270</th>\n",
              "      <td>2018-08-02 22:00:00</td>\n",
              "      <td>17001.0</td>\n",
              "      <td>5</td>\n",
              "    </tr>\n",
              "    <tr>\n",
              "      <th>121271</th>\n",
              "      <td>2018-08-02 23:00:00</td>\n",
              "      <td>15964.0</td>\n",
              "      <td>4</td>\n",
              "    </tr>\n",
              "    <tr>\n",
              "      <th>121272</th>\n",
              "      <td>2018-08-03 00:00:00</td>\n",
              "      <td>14809.0</td>\n",
              "      <td>3</td>\n",
              "    </tr>\n",
              "  </tbody>\n",
              "</table>\n",
              "<p>121273 rows × 3 columns</p>\n",
              "</div>\n",
              "      <button class=\"colab-df-convert\" onclick=\"convertToInteractive('df-637fdd52-a468-4d3c-80ed-d25a471bdc4e')\"\n",
              "              title=\"Convert this dataframe to an interactive table.\"\n",
              "              style=\"display:none;\">\n",
              "        \n",
              "  <svg xmlns=\"http://www.w3.org/2000/svg\" height=\"24px\"viewBox=\"0 0 24 24\"\n",
              "       width=\"24px\">\n",
              "    <path d=\"M0 0h24v24H0V0z\" fill=\"none\"/>\n",
              "    <path d=\"M18.56 5.44l.94 2.06.94-2.06 2.06-.94-2.06-.94-.94-2.06-.94 2.06-2.06.94zm-11 1L8.5 8.5l.94-2.06 2.06-.94-2.06-.94L8.5 2.5l-.94 2.06-2.06.94zm10 10l.94 2.06.94-2.06 2.06-.94-2.06-.94-.94-2.06-.94 2.06-2.06.94z\"/><path d=\"M17.41 7.96l-1.37-1.37c-.4-.4-.92-.59-1.43-.59-.52 0-1.04.2-1.43.59L10.3 9.45l-7.72 7.72c-.78.78-.78 2.05 0 2.83L4 21.41c.39.39.9.59 1.41.59.51 0 1.02-.2 1.41-.59l7.78-7.78 2.81-2.81c.8-.78.8-2.07 0-2.86zM5.41 20L4 18.59l7.72-7.72 1.47 1.35L5.41 20z\"/>\n",
              "  </svg>\n",
              "      </button>\n",
              "      \n",
              "  <style>\n",
              "    .colab-df-container {\n",
              "      display:flex;\n",
              "      flex-wrap:wrap;\n",
              "      gap: 12px;\n",
              "    }\n",
              "\n",
              "    .colab-df-convert {\n",
              "      background-color: #E8F0FE;\n",
              "      border: none;\n",
              "      border-radius: 50%;\n",
              "      cursor: pointer;\n",
              "      display: none;\n",
              "      fill: #1967D2;\n",
              "      height: 32px;\n",
              "      padding: 0 0 0 0;\n",
              "      width: 32px;\n",
              "    }\n",
              "\n",
              "    .colab-df-convert:hover {\n",
              "      background-color: #E2EBFA;\n",
              "      box-shadow: 0px 1px 2px rgba(60, 64, 67, 0.3), 0px 1px 3px 1px rgba(60, 64, 67, 0.15);\n",
              "      fill: #174EA6;\n",
              "    }\n",
              "\n",
              "    [theme=dark] .colab-df-convert {\n",
              "      background-color: #3B4455;\n",
              "      fill: #D2E3FC;\n",
              "    }\n",
              "\n",
              "    [theme=dark] .colab-df-convert:hover {\n",
              "      background-color: #434B5C;\n",
              "      box-shadow: 0px 1px 3px 1px rgba(0, 0, 0, 0.15);\n",
              "      filter: drop-shadow(0px 1px 2px rgba(0, 0, 0, 0.3));\n",
              "      fill: #FFFFFF;\n",
              "    }\n",
              "  </style>\n",
              "\n",
              "      <script>\n",
              "        const buttonEl =\n",
              "          document.querySelector('#df-637fdd52-a468-4d3c-80ed-d25a471bdc4e button.colab-df-convert');\n",
              "        buttonEl.style.display =\n",
              "          google.colab.kernel.accessAllowed ? 'block' : 'none';\n",
              "\n",
              "        async function convertToInteractive(key) {\n",
              "          const element = document.querySelector('#df-637fdd52-a468-4d3c-80ed-d25a471bdc4e');\n",
              "          const dataTable =\n",
              "            await google.colab.kernel.invokeFunction('convertToInteractive',\n",
              "                                                     [key], {});\n",
              "          if (!dataTable) return;\n",
              "\n",
              "          const docLinkHtml = 'Like what you see? Visit the ' +\n",
              "            '<a target=\"_blank\" href=https://colab.research.google.com/notebooks/data_table.ipynb>data table notebook</a>'\n",
              "            + ' to learn more about interactive tables.';\n",
              "          element.innerHTML = '';\n",
              "          dataTable['output_type'] = 'display_data';\n",
              "          await google.colab.output.renderOutput(dataTable, element);\n",
              "          const docLink = document.createElement('div');\n",
              "          docLink.innerHTML = docLinkHtml;\n",
              "          element.appendChild(docLink);\n",
              "        }\n",
              "      </script>\n",
              "    </div>\n",
              "  </div>\n",
              "  "
            ]
          },
          "metadata": {},
          "execution_count": 5
        }
      ]
    },
    {
      "cell_type": "code",
      "source": [
        "sns.countplot(data['sub_label'])"
      ],
      "metadata": {
        "id": "i3fN3ZrjJ5Im",
        "colab": {
          "base_uri": "https://localhost:8080/",
          "height": 354
        },
        "outputId": "b483bab4-555a-4206-a343-a43d37f7e2a6"
      },
      "execution_count": 6,
      "outputs": [
        {
          "output_type": "stream",
          "name": "stderr",
          "text": [
            "/usr/local/lib/python3.7/dist-packages/seaborn/_decorators.py:43: FutureWarning: Pass the following variable as a keyword arg: x. From version 0.12, the only valid positional argument will be `data`, and passing other arguments without an explicit keyword will result in an error or misinterpretation.\n",
            "  FutureWarning\n"
          ]
        },
        {
          "output_type": "execute_result",
          "data": {
            "text/plain": [
              "<matplotlib.axes._subplots.AxesSubplot at 0x7f48c655d5d0>"
            ]
          },
          "metadata": {},
          "execution_count": 6
        },
        {
          "output_type": "display_data",
          "data": {
            "text/plain": [
              "<Figure size 432x288 with 1 Axes>"
            ],
            "image/png": "[encoded data removed]"
          },
          "metadata": {
            "needs_background": "light"
          }
        }
      ]
    },
    {
      "cell_type": "markdown",
      "source": [
        "Convert to data that can be used by the model\n",
        "\n",
        "Give a sliding window,in other words,the model would not only read the instant data,but also read the data in the past."
      ],
      "metadata": {
        "id": "fAxkaNY_8UtF"
      }
    },
    {
      "cell_type": "code",
      "source": [
        "def sliding_windows(data,label, seq_length):\n",
        "    x = []\n",
        "    y = []\n",
        "\n",
        "    for i in range(len(data)-seq_length-1):\n",
        "        _x = data[i:(i+seq_length)]\n",
        "        _y = label.iloc[i+seq_length]\n",
        "        x.append(_x)\n",
        "        y.append(_y)\n",
        "\n",
        "    return np.array(x),np.array(y)"
      ],
      "metadata": {
        "id": "rTn-FI7XCPz1"
      },
      "execution_count": 7,
      "outputs": []
    },
    {
      "cell_type": "markdown",
      "source": [
        "normalize the data"
      ],
      "metadata": {
        "id": "nfnDe-DS9RBM"
      }
    },
    {
      "cell_type": "code",
      "source": [
        "sc = MinMaxScaler()\n",
        "training_data = sc.fit_transform(data_sort[['AEP_MW']])"
      ],
      "metadata": {
        "id": "NaFokmw18K4E"
      },
      "execution_count": null,
      "outputs": []
    },
    {
      "cell_type": "markdown",
      "source": [
        "divide the data into training set and test set"
      ],
      "metadata": {
        "id": "9sMnL7I39ZPs"
      }
    },
    {
      "cell_type": "code",
      "source": [
        "seq_length = 4\n",
        "x, y = sliding_windows(training_data,data_sort['sub_label'] ,seq_length)\n",
        "\n",
        "train_size = int(len(y) * 0.67)\n",
        "test_size = len(y) - train_size\n",
        "\n",
        "dataX = Variable(torch.Tensor(np.array(x)))\n",
        "dataY = Variable(torch.Tensor(np.array(y)))\n",
        "\n",
        "trainX = Variable(torch.Tensor(np.array(x[0:train_size])))\n",
        "trainY = Variable(torch.Tensor(np.array(y[0:train_size])))\n",
        "trainY = trainY.long()\n",
        "\n",
        "testX = Variable(torch.Tensor(np.array(x[train_size:len(x)])))\n",
        "testY = Variable(torch.Tensor(np.array(y[train_size:len(y)])))"
      ],
      "metadata": {
        "id": "NlW7vO3i9Wpt"
      },
      "execution_count": null,
      "outputs": []
    },
    {
      "cell_type": "code",
      "source": [
        "print(dataX.shape)\n",
        "print(dataY.shape)\n",
        "print(trainX.shape)\n",
        "print(trainY.shape)\n",
        "print(testX.shape)\n",
        "print(testY.shape)"
      ],
      "metadata": {
        "colab": {
          "base_uri": "https://localhost:8080/"
        },
        "id": "mbXLst3VRIPA",
        "outputId": "288907a7-dcb1-4eb1-9e1e-366ce7841f1a"
      },
      "execution_count": 8,
      "outputs": [
        {
          "output_type": "stream",
          "name": "stdout",
          "text": [
            "torch.Size([121268, 4, 1])\n",
            "torch.Size([121268])\n",
            "torch.Size([81249, 4, 1])\n",
            "torch.Size([81249])\n",
            "torch.Size([40019, 4, 1])\n",
            "torch.Size([40019])\n",
            "tensor([0, 1, 2,  ..., 8, 8, 8])\n"
          ]
        }
      ]
    },
    {
      "cell_type": "markdown",
      "source": [
        "# **Define the LSTM model**"
      ],
      "metadata": {
        "id": "Coy8g8l90SRN"
      }
    },
    {
      "cell_type": "code",
      "source": [
        "class LSTM(nn.Module):\n",
        "\n",
        "    def __init__(self, num_classes, input_size, hidden_size, num_layers):\n",
        "        super(LSTM, self).__init__()\n",
        "\n",
        "        # Defining the number of layers and the nodes in each layer\n",
        "        self.num_classes = num_classes\n",
        "        self.num_layers = num_layers\n",
        "        self.input_size = input_size\n",
        "        self.hidden_size = hidden_size # 設定越多代表能記住的特徵越多\n",
        "        self.seq_length = seq_length\n",
        "\n",
        "        # LSTM layers\n",
        "        self.lstm = nn.LSTM(input_size=input_size, hidden_size=hidden_size,\n",
        "                            num_layers=num_layers, batch_first=True,dropout = 0.3)\n",
        "\n",
        "         # Fully connected layer\n",
        "        self.fc = nn.Linear(hidden_size, num_classes)\n",
        "\n",
        "    def forward(self, x):                  # x's shape (batch_size, 序列长度, 序列中每个数据的长度)\n",
        "        out, _ = self.lstm(x)              # out's shape (batch_size, 序列长度, hidden_dim)\n",
        "        out = out[:, -1, :]                # 中间的序列长度取-1，表示取序列中的最后一个数据，这个数据长度为hidden_dim，\n",
        "                                           # 得到的out的shape为(batch_size, hidden_dim)\n",
        "        out = self.fc(out)             # 经过线性层后，out的shape为(batch_size, n_class)\n",
        "        return out\n"
      ],
      "metadata": {
        "id": "tpXDsf1vDmuW"
      },
      "execution_count": 13,
      "outputs": []
    },
    {
      "cell_type": "markdown",
      "source": [
        "# **Start training**"
      ],
      "metadata": {
        "id": "oVdRNy2x0cFV"
      }
    },
    {
      "cell_type": "code",
      "source": [
        "num_epochs = 1000\n",
        "learning_rate = 0.01\n",
        "\n",
        "input_size = 1      #input feature size\n",
        "hidden_size = 64     #hidden layer cell size\n",
        "num_layers = 2      #hidden layer\n",
        "\n",
        "num_classes = 9   #output size\n",
        "\n",
        "lstm = LSTM(num_classes, input_size, hidden_size, num_layers)\n",
        "\n",
        "criterion = nn.CrossEntropyLoss()\n",
        "optimizer = torch.optim.Adam(lstm.parameters(), lr=0.001)\n",
        "#optimizer = torch.optim.SGD(lstm.parameters(), lr=learning_rate)\n",
        "\n",
        "# Train the model\n",
        "for epoch in range(num_epochs):\n",
        "    # 1 將data傳入model進行forward propagation\n",
        "    # (put data into model and start forward propagation)\n",
        "    outputs = lstm(trainX)\n",
        "    # 2 清空前一次的gradient\n",
        "    # (clean gradient last time)\n",
        "    optimizer.zero_grad()\n",
        "    # 3 obtain the loss function\n",
        "    loss = criterion(outputs, trainY)\n",
        "    # 4 根據loss進行back propagation，計算gradient\n",
        "    # (start back propagation based on loss,and calculate gradient)\n",
        "    loss.backward()\n",
        "    # 5 做gradient descent\n",
        "    # (start gradient descent)\n",
        "    optimizer.step()\n",
        "    if epoch % 25 == 0:\n",
        "      print(\"Epoch: %d, loss: %1.5f\" % (epoch, loss.item()))"
      ],
      "metadata": {
        "colab": {
          "base_uri": "https://localhost:8080/"
        },
        "id": "74BR9eAYDnqV",
        "outputId": "466a7776-befb-435b-ffb2-0ac538280515"
      },
      "execution_count": 14,
      "outputs": [
        {
          "output_type": "stream",
          "name": "stdout",
          "text": [
            "Epoch: 0, loss: 2.18505\n",
            "Epoch: 25, loss: 2.12009\n",
            "Epoch: 50, loss: 2.07151\n",
            "Epoch: 75, loss: 1.76095\n",
            "Epoch: 100, loss: 1.66613\n",
            "Epoch: 125, loss: 1.59962\n",
            "Epoch: 150, loss: 1.48248\n",
            "Epoch: 175, loss: 1.31475\n",
            "Epoch: 200, loss: 1.19478\n",
            "Epoch: 225, loss: 1.11875\n",
            "Epoch: 250, loss: 1.07515\n",
            "Epoch: 275, loss: 1.02793\n",
            "Epoch: 300, loss: 0.99541\n",
            "Epoch: 325, loss: 0.96879\n",
            "Epoch: 350, loss: 0.94062\n",
            "Epoch: 375, loss: 0.91647\n",
            "Epoch: 400, loss: 0.89563\n",
            "Epoch: 425, loss: 0.86762\n",
            "Epoch: 450, loss: 0.84086\n",
            "Epoch: 475, loss: 0.81578\n",
            "Epoch: 500, loss: 0.79926\n",
            "Epoch: 525, loss: 0.77389\n",
            "Epoch: 550, loss: 0.75213\n",
            "Epoch: 575, loss: 0.74181\n",
            "Epoch: 600, loss: 0.71824\n",
            "Epoch: 625, loss: 0.70853\n",
            "Epoch: 650, loss: 0.69127\n",
            "Epoch: 675, loss: 0.67741\n",
            "Epoch: 700, loss: 0.66422\n",
            "Epoch: 725, loss: 0.65371\n",
            "Epoch: 750, loss: 0.64298\n",
            "Epoch: 775, loss: 0.63321\n",
            "Epoch: 800, loss: 0.62508\n",
            "Epoch: 825, loss: 0.63210\n",
            "Epoch: 850, loss: 0.60815\n",
            "Epoch: 875, loss: 0.59721\n",
            "Epoch: 900, loss: 0.59968\n",
            "Epoch: 925, loss: 0.58610\n",
            "Epoch: 950, loss: 0.57634\n",
            "Epoch: 975, loss: 0.57076\n"
          ]
        }
      ]
    },
    {
      "cell_type": "markdown",
      "source": [
        "# **Start Predict**"
      ],
      "metadata": {
        "id": "svXsCmD60kmN"
      }
    },
    {
      "cell_type": "code",
      "source": [
        "lstm.eval()\n",
        "train_predict = lstm(testX)\n",
        "\n",
        "data_predict = train_predict.data.numpy()\n",
        "data_predict = np.argmax(data_predict, axis=1)\n",
        "print(data_predict)\n",
        "\n",
        "data_predict = pd.DataFrame(data_predict)\n",
        "data_predict\n",
        "\n",
        "dataY_plot = testY.data.numpy()\n",
        "\n",
        "#plt.axvline(x=train_size, c='r', linestyle='--')\n",
        "plt.plot(dataY_plot)\n",
        "plt.plot(data_predict)\n",
        "plt.suptitle('Time-Series Prediction')\n",
        "plt.show()"
      ],
      "metadata": {
        "colab": {
          "base_uri": "https://localhost:8080/",
          "height": 311
        },
        "id": "Swmhq3C6DriV",
        "outputId": "35cd7284-b4f3-4105-e00a-7975f1ecacbb"
      },
      "execution_count": 16,
      "outputs": [
        {
          "output_type": "stream",
          "name": "stdout",
          "text": [
            "[8 7 7 ... 5 5 5]\n"
          ]
        },
        {
          "output_type": "display_data",
          "data": {
            "text/plain": [
              "<Figure size 432x288 with 1 Axes>"
            ],
            "image/png": "[encoded data removed]"
          },
          "metadata": {
            "needs_background": "light"
          }
        }
      ]
    },
    {
      "cell_type": "code",
      "source": [
        "from sklearn.metrics import classification_report, confusion_matrix, accuracy_score\n",
        "\n",
        "print(confusion_matrix(testY,data_predict))\n",
        "print(classification_report(testY,data_predict))\n",
        "print(accuracy_score(testY,data_predict))"
      ],
      "metadata": {
        "colab": {
          "base_uri": "https://localhost:8080/"
        },
        "id": "Qjw9tpQ3MbHV",
        "outputId": "218ded44-5f86-47e9-c6f9-383bed516dc8"
      },
      "execution_count": 17,
      "outputs": [
        {
          "output_type": "stream",
          "name": "stdout",
          "text": [
            "[[4000  726    0    0    0    0    0    0    0]\n",
            " [ 195 4846  693    0    1    0    0    0    0]\n",
            " [   0  353 5377 1195    4    0    0    0    0]\n",
            " [   0    0  525 5306  865    2    0    0    0]\n",
            " [   0    1    0  429 4081  535    0    0    0]\n",
            " [   0    0    0    0  508 3233  381    0    0]\n",
            " [   0    0    0    0    0  382 3007  216    0]\n",
            " [   0    0    0    0    0    0  287 2096   64]\n",
            " [   0    0    0    0    0    0    0  126  585]]\n",
            "              precision    recall  f1-score   support\n",
            "\n",
            "         0.0       0.95      0.85      0.90      4726\n",
            "         1.0       0.82      0.84      0.83      5735\n",
            "         2.0       0.82      0.78      0.80      6929\n",
            "         3.0       0.77      0.79      0.78      6698\n",
            "         4.0       0.75      0.81      0.78      5046\n",
            "         5.0       0.78      0.78      0.78      4122\n",
            "         6.0       0.82      0.83      0.83      3605\n",
            "         7.0       0.86      0.86      0.86      2447\n",
            "         8.0       0.90      0.82      0.86       711\n",
            "\n",
            "    accuracy                           0.81     40019\n",
            "   macro avg       0.83      0.82      0.82     40019\n",
            "weighted avg       0.82      0.81      0.81     40019\n",
            "\n",
            "0.8128888777830531\n"
          ]
        }
      ]
    }
  ]
}